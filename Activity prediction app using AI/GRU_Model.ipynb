{
  "cells": [
    {
      "cell_type": "code",
      "execution_count": 16,
      "metadata": {
        "id": "ywuZlhPDarBS"
      },
      "outputs": [],
      "source": [
        "import numpy as np \n",
        "import pandas as pd\n",
        "from keras.models import Sequential\n",
        "from keras.layers import Dense, GRU\n",
        "import matplotlib.pyplot as plt\n",
        "import seaborn as sns"
      ]
    },
    {
      "cell_type": "code",
      "execution_count": 17,
      "metadata": {
        "colab": {
          "base_uri": "https://localhost:8080/",
          "height": 328
        },
        "id": "82PEivWDarBW",
        "outputId": "923f7862-2a04-4fdd-baa2-c76bde14fbbe"
      },
      "outputs": [
        {
          "data": {
            "text/html": [
              "<div>\n",
              "<style scoped>\n",
              "    .dataframe tbody tr th:only-of-type {\n",
              "        vertical-align: middle;\n",
              "    }\n",
              "\n",
              "    .dataframe tbody tr th {\n",
              "        vertical-align: top;\n",
              "    }\n",
              "\n",
              "    .dataframe thead th {\n",
              "        text-align: right;\n",
              "    }\n",
              "</style>\n",
              "<table border=\"1\" class=\"dataframe\">\n",
              "  <thead>\n",
              "    <tr style=\"text-align: right;\">\n",
              "      <th></th>\n",
              "      <th>attr_x</th>\n",
              "      <th>attr_y</th>\n",
              "      <th>attr_z</th>\n",
              "      <th>class</th>\n",
              "    </tr>\n",
              "  </thead>\n",
              "  <tbody>\n",
              "    <tr>\n",
              "      <th>0</th>\n",
              "      <td>-0.051475</td>\n",
              "      <td>9.563639</td>\n",
              "      <td>0.266954</td>\n",
              "      <td>2</td>\n",
              "    </tr>\n",
              "    <tr>\n",
              "      <th>1</th>\n",
              "      <td>-0.025139</td>\n",
              "      <td>9.600150</td>\n",
              "      <td>-0.026935</td>\n",
              "      <td>2</td>\n",
              "    </tr>\n",
              "    <tr>\n",
              "      <th>2</th>\n",
              "      <td>0.020351</td>\n",
              "      <td>9.601347</td>\n",
              "      <td>0.219668</td>\n",
              "      <td>2</td>\n",
              "    </tr>\n",
              "    <tr>\n",
              "      <th>3</th>\n",
              "      <td>-0.041899</td>\n",
              "      <td>9.575610</td>\n",
              "      <td>0.107141</td>\n",
              "      <td>2</td>\n",
              "    </tr>\n",
              "    <tr>\n",
              "      <th>4</th>\n",
              "      <td>0.068833</td>\n",
              "      <td>9.633669</td>\n",
              "      <td>-0.055665</td>\n",
              "      <td>2</td>\n",
              "    </tr>\n",
              "    <tr>\n",
              "      <th>...</th>\n",
              "      <td>...</td>\n",
              "      <td>...</td>\n",
              "      <td>...</td>\n",
              "      <td>...</td>\n",
              "    </tr>\n",
              "    <tr>\n",
              "      <th>926615</th>\n",
              "      <td>10.790668</td>\n",
              "      <td>0.096367</td>\n",
              "      <td>0.761955</td>\n",
              "      <td>2</td>\n",
              "    </tr>\n",
              "    <tr>\n",
              "      <th>926616</th>\n",
              "      <td>10.580576</td>\n",
              "      <td>0.627879</td>\n",
              "      <td>1.213860</td>\n",
              "      <td>2</td>\n",
              "    </tr>\n",
              "    <tr>\n",
              "      <th>926617</th>\n",
              "      <td>10.429741</td>\n",
              "      <td>0.756568</td>\n",
              "      <td>1.334169</td>\n",
              "      <td>2</td>\n",
              "    </tr>\n",
              "    <tr>\n",
              "      <th>926618</th>\n",
              "      <td>9.898827</td>\n",
              "      <td>0.884059</td>\n",
              "      <td>1.049259</td>\n",
              "      <td>2</td>\n",
              "    </tr>\n",
              "    <tr>\n",
              "      <th>926619</th>\n",
              "      <td>9.900024</td>\n",
              "      <td>0.560243</td>\n",
              "      <td>1.439514</td>\n",
              "      <td>2</td>\n",
              "    </tr>\n",
              "  </tbody>\n",
              "</table>\n",
              "<p>926620 rows × 4 columns</p>\n",
              "</div>"
            ],
            "text/plain": [
              "           attr_x    attr_y    attr_z  class\n",
              "0       -0.051475  9.563639  0.266954      2\n",
              "1       -0.025139  9.600150 -0.026935      2\n",
              "2        0.020351  9.601347  0.219668      2\n",
              "3       -0.041899  9.575610  0.107141      2\n",
              "4        0.068833  9.633669 -0.055665      2\n",
              "...           ...       ...       ...    ...\n",
              "926615  10.790668  0.096367  0.761955      2\n",
              "926616  10.580576  0.627879  1.213860      2\n",
              "926617  10.429741  0.756568  1.334169      2\n",
              "926618   9.898827  0.884059  1.049259      2\n",
              "926619   9.900024  0.560243  1.439514      2\n",
              "\n",
              "[926620 rows x 4 columns]"
            ]
          },
          "execution_count": 17,
          "metadata": {},
          "output_type": "execute_result"
        }
      ],
      "source": [
        "Data_R = pd.read_csv(\"Running.csv\")\n",
        "Data_R"
      ]
    },
    {
      "cell_type": "code",
      "execution_count": 18,
      "metadata": {
        "colab": {
          "base_uri": "https://localhost:8080/",
          "height": 424
        },
        "id": "tJ6Mt2Cx5PID",
        "outputId": "bc90d9ff-9915-473a-aa56-25be6d07bf43"
      },
      "outputs": [
        {
          "data": {
            "text/html": [
              "<div>\n",
              "<style scoped>\n",
              "    .dataframe tbody tr th:only-of-type {\n",
              "        vertical-align: middle;\n",
              "    }\n",
              "\n",
              "    .dataframe tbody tr th {\n",
              "        vertical-align: top;\n",
              "    }\n",
              "\n",
              "    .dataframe thead th {\n",
              "        text-align: right;\n",
              "    }\n",
              "</style>\n",
              "<table border=\"1\" class=\"dataframe\">\n",
              "  <thead>\n",
              "    <tr style=\"text-align: right;\">\n",
              "      <th></th>\n",
              "      <th>attr_x</th>\n",
              "      <th>attr_y</th>\n",
              "      <th>attr_z</th>\n",
              "      <th>class</th>\n",
              "    </tr>\n",
              "  </thead>\n",
              "  <tbody>\n",
              "    <tr>\n",
              "      <th>0</th>\n",
              "      <td>0.055665</td>\n",
              "      <td>9.621099</td>\n",
              "      <td>-0.011372</td>\n",
              "      <td>1</td>\n",
              "    </tr>\n",
              "    <tr>\n",
              "      <th>1</th>\n",
              "      <td>0.073622</td>\n",
              "      <td>9.554062</td>\n",
              "      <td>-0.077812</td>\n",
              "      <td>1</td>\n",
              "    </tr>\n",
              "    <tr>\n",
              "      <th>2</th>\n",
              "      <td>0.077812</td>\n",
              "      <td>9.537901</td>\n",
              "      <td>-0.155025</td>\n",
              "      <td>1</td>\n",
              "    </tr>\n",
              "    <tr>\n",
              "      <th>3</th>\n",
              "      <td>0.113725</td>\n",
              "      <td>9.567230</td>\n",
              "      <td>-0.159214</td>\n",
              "      <td>1</td>\n",
              "    </tr>\n",
              "    <tr>\n",
              "      <th>4</th>\n",
              "      <td>0.116717</td>\n",
              "      <td>9.599552</td>\n",
              "      <td>-0.104746</td>\n",
              "      <td>1</td>\n",
              "    </tr>\n",
              "    <tr>\n",
              "      <th>...</th>\n",
              "      <td>...</td>\n",
              "      <td>...</td>\n",
              "      <td>...</td>\n",
              "      <td>...</td>\n",
              "    </tr>\n",
              "    <tr>\n",
              "      <th>810709</th>\n",
              "      <td>9.731233</td>\n",
              "      <td>-0.829591</td>\n",
              "      <td>1.444901</td>\n",
              "      <td>1</td>\n",
              "    </tr>\n",
              "    <tr>\n",
              "      <th>810710</th>\n",
              "      <td>9.526528</td>\n",
              "      <td>-0.908001</td>\n",
              "      <td>1.290475</td>\n",
              "      <td>1</td>\n",
              "    </tr>\n",
              "    <tr>\n",
              "      <th>810711</th>\n",
              "      <td>9.511565</td>\n",
              "      <td>-0.818817</td>\n",
              "      <td>1.276708</td>\n",
              "      <td>1</td>\n",
              "    </tr>\n",
              "    <tr>\n",
              "      <th>810712</th>\n",
              "      <td>9.703699</td>\n",
              "      <td>-0.750582</td>\n",
              "      <td>1.404199</td>\n",
              "      <td>1</td>\n",
              "    </tr>\n",
              "    <tr>\n",
              "      <th>810713</th>\n",
              "      <td>9.899425</td>\n",
              "      <td>-0.631471</td>\n",
              "      <td>1.264737</td>\n",
              "      <td>1</td>\n",
              "    </tr>\n",
              "  </tbody>\n",
              "</table>\n",
              "<p>810714 rows × 4 columns</p>\n",
              "</div>"
            ],
            "text/plain": [
              "          attr_x    attr_y    attr_z  class\n",
              "0       0.055665  9.621099 -0.011372      1\n",
              "1       0.073622  9.554062 -0.077812      1\n",
              "2       0.077812  9.537901 -0.155025      1\n",
              "3       0.113725  9.567230 -0.159214      1\n",
              "4       0.116717  9.599552 -0.104746      1\n",
              "...          ...       ...       ...    ...\n",
              "810709  9.731233 -0.829591  1.444901      1\n",
              "810710  9.526528 -0.908001  1.290475      1\n",
              "810711  9.511565 -0.818817  1.276708      1\n",
              "810712  9.703699 -0.750582  1.404199      1\n",
              "810713  9.899425 -0.631471  1.264737      1\n",
              "\n",
              "[810714 rows x 4 columns]"
            ]
          },
          "execution_count": 18,
          "metadata": {},
          "output_type": "execute_result"
        }
      ],
      "source": [
        "Data_W = pd.read_csv(\"Walking.csv\")\n",
        "Data_W"
      ]
    },
    {
      "cell_type": "code",
      "execution_count": 19,
      "metadata": {},
      "outputs": [
        {
          "data": {
            "text/plain": [
              "<AxesSubplot:>"
            ]
          },
          "execution_count": 19,
          "metadata": {},
          "output_type": "execute_result"
        },
        {
          "data": {
            "image/png": "[encoded data removed]",
            "text/plain": [
              "<Figure size 432x288 with 1 Axes>"
            ]
          },
          "metadata": {},
          "output_type": "display_data"
        }
      ],
      "source": [
        "Data_W.plot()"
      ]
    },
    {
      "cell_type": "code",
      "execution_count": 20,
      "metadata": {
        "colab": {
          "base_uri": "https://localhost:8080/",
          "height": 424
        },
        "id": "7famb7J25W3D",
        "outputId": "5922d7c5-4363-4617-f2b8-3ba44c65824e"
      },
      "outputs": [
        {
          "data": {
            "text/html": [
              "<div>\n",
              "<style scoped>\n",
              "    .dataframe tbody tr th:only-of-type {\n",
              "        vertical-align: middle;\n",
              "    }\n",
              "\n",
              "    .dataframe tbody tr th {\n",
              "        vertical-align: top;\n",
              "    }\n",
              "\n",
              "    .dataframe thead th {\n",
              "        text-align: right;\n",
              "    }\n",
              "</style>\n",
              "<table border=\"1\" class=\"dataframe\">\n",
              "  <thead>\n",
              "    <tr style=\"text-align: right;\">\n",
              "      <th></th>\n",
              "      <th>attr_x</th>\n",
              "      <th>attr_y</th>\n",
              "      <th>attr_z</th>\n",
              "      <th>class</th>\n",
              "    </tr>\n",
              "  </thead>\n",
              "  <tbody>\n",
              "    <tr>\n",
              "      <th>0</th>\n",
              "      <td>-0.017957</td>\n",
              "      <td>9.598953</td>\n",
              "      <td>0.057461</td>\n",
              "      <td>0</td>\n",
              "    </tr>\n",
              "    <tr>\n",
              "      <th>1</th>\n",
              "      <td>-0.007781</td>\n",
              "      <td>9.601347</td>\n",
              "      <td>0.047285</td>\n",
              "      <td>0</td>\n",
              "    </tr>\n",
              "    <tr>\n",
              "      <th>2</th>\n",
              "      <td>-0.012570</td>\n",
              "      <td>9.595961</td>\n",
              "      <td>0.061651</td>\n",
              "      <td>0</td>\n",
              "    </tr>\n",
              "    <tr>\n",
              "      <th>3</th>\n",
              "      <td>-0.013767</td>\n",
              "      <td>9.591770</td>\n",
              "      <td>0.074220</td>\n",
              "      <td>0</td>\n",
              "    </tr>\n",
              "    <tr>\n",
              "      <th>4</th>\n",
              "      <td>-0.016161</td>\n",
              "      <td>9.591770</td>\n",
              "      <td>0.049081</td>\n",
              "      <td>0</td>\n",
              "    </tr>\n",
              "    <tr>\n",
              "      <th>...</th>\n",
              "      <td>...</td>\n",
              "      <td>...</td>\n",
              "      <td>...</td>\n",
              "      <td>...</td>\n",
              "    </tr>\n",
              "    <tr>\n",
              "      <th>704176</th>\n",
              "      <td>9.535507</td>\n",
              "      <td>2.271499</td>\n",
              "      <td>1.966837</td>\n",
              "      <td>0</td>\n",
              "    </tr>\n",
              "    <tr>\n",
              "      <th>704177</th>\n",
              "      <td>9.549273</td>\n",
              "      <td>2.261324</td>\n",
              "      <td>1.998560</td>\n",
              "      <td>0</td>\n",
              "    </tr>\n",
              "    <tr>\n",
              "      <th>704178</th>\n",
              "      <td>9.571420</td>\n",
              "      <td>2.288857</td>\n",
              "      <td>2.006341</td>\n",
              "      <td>0</td>\n",
              "    </tr>\n",
              "    <tr>\n",
              "      <th>704179</th>\n",
              "      <td>9.501390</td>\n",
              "      <td>2.302624</td>\n",
              "      <td>1.994968</td>\n",
              "      <td>0</td>\n",
              "    </tr>\n",
              "    <tr>\n",
              "      <th>704180</th>\n",
              "      <td>9.469667</td>\n",
              "      <td>2.295441</td>\n",
              "      <td>1.999158</td>\n",
              "      <td>0</td>\n",
              "    </tr>\n",
              "  </tbody>\n",
              "</table>\n",
              "<p>704181 rows × 4 columns</p>\n",
              "</div>"
            ],
            "text/plain": [
              "          attr_x    attr_y    attr_z  class\n",
              "0      -0.017957  9.598953  0.057461      0\n",
              "1      -0.007781  9.601347  0.047285      0\n",
              "2      -0.012570  9.595961  0.061651      0\n",
              "3      -0.013767  9.591770  0.074220      0\n",
              "4      -0.016161  9.591770  0.049081      0\n",
              "...          ...       ...       ...    ...\n",
              "704176  9.535507  2.271499  1.966837      0\n",
              "704177  9.549273  2.261324  1.998560      0\n",
              "704178  9.571420  2.288857  2.006341      0\n",
              "704179  9.501390  2.302624  1.994968      0\n",
              "704180  9.469667  2.295441  1.999158      0\n",
              "\n",
              "[704181 rows x 4 columns]"
            ]
          },
          "execution_count": 20,
          "metadata": {},
          "output_type": "execute_result"
        }
      ],
      "source": [
        "Data_S = pd.read_csv(\"Sitting.csv\")\n",
        "Data_S"
      ]
    },
    {
      "cell_type": "code",
      "execution_count": 21,
      "metadata": {
        "id": "UPWntrKbbQY3"
      },
      "outputs": [],
      "source": [
        "Data_Frame = [Data_R, Data_W, Data_S]\n",
        "Data = pd.concat(Data_Frame,ignore_index=True)"
      ]
    },
    {
      "cell_type": "code",
      "execution_count": 22,
      "metadata": {
        "colab": {
          "base_uri": "https://localhost:8080/",
          "height": 424
        },
        "id": "uFTR7Dxg5yk8",
        "outputId": "cba95170-55c7-4f9f-ddff-d4ea152d2a21"
      },
      "outputs": [
        {
          "data": {
            "text/html": [
              "<div>\n",
              "<style scoped>\n",
              "    .dataframe tbody tr th:only-of-type {\n",
              "        vertical-align: middle;\n",
              "    }\n",
              "\n",
              "    .dataframe tbody tr th {\n",
              "        vertical-align: top;\n",
              "    }\n",
              "\n",
              "    .dataframe thead th {\n",
              "        text-align: right;\n",
              "    }\n",
              "</style>\n",
              "<table border=\"1\" class=\"dataframe\">\n",
              "  <thead>\n",
              "    <tr style=\"text-align: right;\">\n",
              "      <th></th>\n",
              "      <th>attr_x</th>\n",
              "      <th>attr_y</th>\n",
              "      <th>attr_z</th>\n",
              "      <th>class</th>\n",
              "    </tr>\n",
              "  </thead>\n",
              "  <tbody>\n",
              "    <tr>\n",
              "      <th>0</th>\n",
              "      <td>-0.051475</td>\n",
              "      <td>9.563639</td>\n",
              "      <td>0.266954</td>\n",
              "      <td>2</td>\n",
              "    </tr>\n",
              "    <tr>\n",
              "      <th>1</th>\n",
              "      <td>-0.025139</td>\n",
              "      <td>9.600150</td>\n",
              "      <td>-0.026935</td>\n",
              "      <td>2</td>\n",
              "    </tr>\n",
              "    <tr>\n",
              "      <th>2</th>\n",
              "      <td>0.020351</td>\n",
              "      <td>9.601347</td>\n",
              "      <td>0.219668</td>\n",
              "      <td>2</td>\n",
              "    </tr>\n",
              "    <tr>\n",
              "      <th>3</th>\n",
              "      <td>-0.041899</td>\n",
              "      <td>9.575610</td>\n",
              "      <td>0.107141</td>\n",
              "      <td>2</td>\n",
              "    </tr>\n",
              "    <tr>\n",
              "      <th>4</th>\n",
              "      <td>0.068833</td>\n",
              "      <td>9.633669</td>\n",
              "      <td>-0.055665</td>\n",
              "      <td>2</td>\n",
              "    </tr>\n",
              "    <tr>\n",
              "      <th>...</th>\n",
              "      <td>...</td>\n",
              "      <td>...</td>\n",
              "      <td>...</td>\n",
              "      <td>...</td>\n",
              "    </tr>\n",
              "    <tr>\n",
              "      <th>2441510</th>\n",
              "      <td>9.535507</td>\n",
              "      <td>2.271499</td>\n",
              "      <td>1.966837</td>\n",
              "      <td>0</td>\n",
              "    </tr>\n",
              "    <tr>\n",
              "      <th>2441511</th>\n",
              "      <td>9.549273</td>\n",
              "      <td>2.261324</td>\n",
              "      <td>1.998560</td>\n",
              "      <td>0</td>\n",
              "    </tr>\n",
              "    <tr>\n",
              "      <th>2441512</th>\n",
              "      <td>9.571420</td>\n",
              "      <td>2.288857</td>\n",
              "      <td>2.006341</td>\n",
              "      <td>0</td>\n",
              "    </tr>\n",
              "    <tr>\n",
              "      <th>2441513</th>\n",
              "      <td>9.501390</td>\n",
              "      <td>2.302624</td>\n",
              "      <td>1.994968</td>\n",
              "      <td>0</td>\n",
              "    </tr>\n",
              "    <tr>\n",
              "      <th>2441514</th>\n",
              "      <td>9.469667</td>\n",
              "      <td>2.295441</td>\n",
              "      <td>1.999158</td>\n",
              "      <td>0</td>\n",
              "    </tr>\n",
              "  </tbody>\n",
              "</table>\n",
              "<p>2441515 rows × 4 columns</p>\n",
              "</div>"
            ],
            "text/plain": [
              "           attr_x    attr_y    attr_z  class\n",
              "0       -0.051475  9.563639  0.266954      2\n",
              "1       -0.025139  9.600150 -0.026935      2\n",
              "2        0.020351  9.601347  0.219668      2\n",
              "3       -0.041899  9.575610  0.107141      2\n",
              "4        0.068833  9.633669 -0.055665      2\n",
              "...           ...       ...       ...    ...\n",
              "2441510  9.535507  2.271499  1.966837      0\n",
              "2441511  9.549273  2.261324  1.998560      0\n",
              "2441512  9.571420  2.288857  2.006341      0\n",
              "2441513  9.501390  2.302624  1.994968      0\n",
              "2441514  9.469667  2.295441  1.999158      0\n",
              "\n",
              "[2441515 rows x 4 columns]"
            ]
          },
          "execution_count": 22,
          "metadata": {},
          "output_type": "execute_result"
        }
      ],
      "source": [
        "Data"
      ]
    },
    {
      "cell_type": "code",
      "execution_count": 23,
      "metadata": {},
      "outputs": [
        {
          "data": {
            "image/png": "[encoded data removed]",
            "text/plain": [
              "<Figure size 432x288 with 1 Axes>"
            ]
          },
          "metadata": {},
          "output_type": "display_data"
        }
      ],
      "source": [
        "sns.set_theme(style=\"darkgrid\")\n",
        "sns.countplot(x='class', data = Data)\n",
        "plt.title('Activities')\n",
        "plt.show()"
      ]
    },
    {
      "attachments": {},
      "cell_type": "markdown",
      "metadata": {},
      "source": [
        "## Preparing input data for GRU model"
      ]
    },
    {
      "cell_type": "code",
      "execution_count": 36,
      "metadata": {
        "id": "oLwYbuTsarBo"
      },
      "outputs": [],
      "source": [
        "\n",
        "random_seed =150  \n",
        "Class = 3\n",
        "Time_steps = 12\n",
        "step = 12\n",
        "Features = 3"
      ]
    },
    {
      "cell_type": "code",
      "execution_count": 37,
      "metadata": {
        "id": "6WXsVGD1arBo"
      },
      "outputs": [],
      "source": [
        "Data_parts = []\n",
        "labels = []\n",
        "\n",
        "for i in range(0,  Data.shape[0]- Time_steps, step):\n",
        "\n",
        "    xs = Data['attr_x'].values[i: i + Time_steps]\n",
        "    ys = Data['attr_y'].values[i: i + Time_steps]\n",
        "    zs = Data['attr_z'].values[i: i + Time_steps]\n",
        "    \n",
        "    from scipy import stats\n",
        "    label=stats.mode(Data['class'][i: i + Time_steps])[0][0]\n",
        "    Data_parts.append([xs, ys, zs])\n",
        "    labels.append(label)\n",
        "\n",
        "reshaped_segments = np.asarray(Data_parts, dtype= np.float32).reshape(-1, Time_steps, Features)\n",
        "\n",
        "labels = np.asarray(pd.get_dummies(labels), dtype = np.float32)"
      ]
    },
    {
      "cell_type": "code",
      "execution_count": 38,
      "metadata": {
        "id": "T3uWpPhGarBq"
      },
      "outputs": [],
      "source": [
        "from sklearn.model_selection import train_test_split\n",
        "X_train, X_test, y_train, y_test = train_test_split(reshaped_segments, labels, test_size = 0.1, random_state = random_seed)"
      ]
    },
    {
      "cell_type": "code",
      "execution_count": 39,
      "metadata": {
        "colab": {
          "base_uri": "https://localhost:8080/"
        },
        "id": "O2_F9zQBarBq",
        "outputId": "4b8cba5e-e753-4674-c9c2-3cc955eaebae"
      },
      "outputs": [
        {
          "data": {
            "text/plain": [
              "(183113, 12, 3)"
            ]
          },
          "execution_count": 39,
          "metadata": {},
          "output_type": "execute_result"
        }
      ],
      "source": [
        "X_train.shape"
      ]
    },
    {
      "cell_type": "code",
      "execution_count": 40,
      "metadata": {
        "colab": {
          "base_uri": "https://localhost:8080/"
        },
        "id": "aTVullFxB8Ht",
        "outputId": "ee0f39fe-229c-41f3-cffa-6c672e63fafc"
      },
      "outputs": [
        {
          "data": {
            "text/plain": [
              "array([[ 6.085462  ,  9.003395  , 17.07425   ],\n",
              "       [19.607914  , 19.484612  , 19.607914  ],\n",
              "       [15.733497  , 12.768876  , 12.367847  ],\n",
              "       [12.875419  , 13.681067  , 10.521319  ],\n",
              "       [-0.04010288,  0.15562311, -3.0627825 ],\n",
              "       [ 1.5101427 ,  1.1528081 ,  7.617751  ],\n",
              "       [ 4.144962  ,  0.7846996 , -3.0777464 ],\n",
              "       [-1.9339164 , -1.3000516 , -2.6952724 ],\n",
              "       [-1.4694413 ,  1.4664485 ,  5.801151  ],\n",
              "       [-5.331289  , -9.927557  , -2.795829  ],\n",
              "       [ 2.2092497 ,  2.259528  , -1.8303672 ],\n",
              "       [ 0.6123171 ,  3.265691  ,  4.174889  ]], dtype=float32)"
            ]
          },
          "execution_count": 40,
          "metadata": {},
          "output_type": "execute_result"
        }
      ],
      "source": [
        "X_train[0]"
      ]
    },
    {
      "cell_type": "code",
      "execution_count": 41,
      "metadata": {},
      "outputs": [
        {
          "data": {
            "text/plain": [
              "array([[-9.705495  , -9.69532   , -9.685144  ],\n",
              "       [-9.689933  , -9.701904  , -9.694721  ],\n",
              "       [-9.683948  , -9.698911  , -9.67856   ],\n",
              "       [-9.685144  , -9.680356  , -9.702502  ],\n",
              "       [ 0.7188591 ,  0.7266402 ,  0.7206547 ],\n",
              "       [ 0.7015011 ,  0.7015011 ,  0.7068881 ],\n",
              "       [ 0.7086837 ,  0.7068881 ,  0.7182605 ],\n",
              "       [ 0.7236475 ,  0.7182605 ,  0.7230489 ],\n",
              "       [ 0.842759  ,  0.84934306,  0.8535329 ],\n",
              "       [ 0.8439561 ,  0.83497787,  0.83378077],\n",
              "       [ 0.8439561 ,  0.8439561 ,  0.8475474 ],\n",
              "       [ 0.82599956,  0.8463503 ,  0.8319851 ]], dtype=float32)"
            ]
          },
          "execution_count": 41,
          "metadata": {},
          "output_type": "execute_result"
        }
      ],
      "source": [
        "X_test[0]"
      ]
    },
    {
      "cell_type": "code",
      "execution_count": 42,
      "metadata": {},
      "outputs": [
        {
          "data": {
            "text/plain": [
              "array([[0., 0., 1.],\n",
              "       [1., 0., 0.],\n",
              "       [0., 1., 0.],\n",
              "       ...,\n",
              "       [0., 0., 1.],\n",
              "       [1., 0., 0.],\n",
              "       [0., 0., 1.]], dtype=float32)"
            ]
          },
          "execution_count": 42,
          "metadata": {},
          "output_type": "execute_result"
        }
      ],
      "source": [
        "y_train"
      ]
    },
    {
      "cell_type": "code",
      "execution_count": 43,
      "metadata": {},
      "outputs": [
        {
          "data": {
            "text/plain": [
              "(20346, 12, 3)"
            ]
          },
          "execution_count": 43,
          "metadata": {},
          "output_type": "execute_result"
        }
      ],
      "source": [
        "X_test.shape"
      ]
    },
    {
      "attachments": {},
      "cell_type": "markdown",
      "metadata": {},
      "source": [
        "## GRU Model"
      ]
    },
    {
      "cell_type": "code",
      "execution_count": 44,
      "metadata": {
        "id": "Nh7Chq0marBs"
      },
      "outputs": [],
      "source": [
        "model = Sequential()\n",
        "model.add(GRU(units = 128, return_sequences=False ,input_shape = (X_train.shape[1], X_train.shape[2])))\n",
        "model.add(Dense(units = 128, activation='sigmoid'))\n",
        "model.add(Dense(units = 64, activation='relu'))\n",
        "model.add(Dense(y_train.shape[1], activation = 'softmax'))\n",
        "model.compile(loss='categorical_crossentropy', optimizer='adam', metrics=['accuracy'])"
      ]
    },
    {
      "cell_type": "code",
      "execution_count": 45,
      "metadata": {
        "colab": {
          "base_uri": "https://localhost:8080/"
        },
        "id": "_DaustljarBt",
        "outputId": "b5573ecd-7346-444d-dc91-c43c3e2168e8"
      },
      "outputs": [
        {
          "name": "stdout",
          "output_type": "stream",
          "text": [
            "Model: \"sequential_1\"\n",
            "_________________________________________________________________\n",
            " Layer (type)                Output Shape              Param #   \n",
            "=================================================================\n",
            " gru_1 (GRU)                 (None, 128)               51072     \n",
            "                                                                 \n",
            " dense_3 (Dense)             (None, 128)               16512     \n",
            "                                                                 \n",
            " dense_4 (Dense)             (None, 64)                8256      \n",
            "                                                                 \n",
            " dense_5 (Dense)             (None, 3)                 195       \n",
            "                                                                 \n",
            "=================================================================\n",
            "Total params: 76,035\n",
            "Trainable params: 76,035\n",
            "Non-trainable params: 0\n",
            "_________________________________________________________________\n"
          ]
        }
      ],
      "source": [
        "model.summary()"
      ]
    },
    {
      "cell_type": "code",
      "execution_count": 46,
      "metadata": {
        "id": "M1qnxMUfarBt"
      },
      "outputs": [],
      "source": [
        "epochs = 5\n",
        "batch_size = 12 "
      ]
    },
    {
      "cell_type": "code",
      "execution_count": 47,
      "metadata": {
        "colab": {
          "base_uri": "https://localhost:8080/"
        },
        "id": "dRVvanrIarBt",
        "outputId": "2489ef0f-cfd2-4c30-99c4-b09fbdef1092"
      },
      "outputs": [
        {
          "name": "stdout",
          "output_type": "stream",
          "text": [
            "Epoch 1/5\n",
            "12971/12971 [==============================] - 70s 5ms/step - loss: 0.1653 - accuracy: 0.9417 - val_loss: 0.1256 - val_accuracy: 0.9578\n",
            "Epoch 2/5\n",
            "12971/12971 [==============================] - 68s 5ms/step - loss: 0.1069 - accuracy: 0.9644 - val_loss: 0.1033 - val_accuracy: 0.9653\n",
            "Epoch 3/5\n",
            "12971/12971 [==============================] - 70s 5ms/step - loss: 0.0951 - accuracy: 0.9679 - val_loss: 0.1137 - val_accuracy: 0.9612\n",
            "Epoch 4/5\n",
            "12971/12971 [==============================] - 68s 5ms/step - loss: 0.0899 - accuracy: 0.9693 - val_loss: 0.0973 - val_accuracy: 0.9664\n",
            "Epoch 5/5\n",
            "12971/12971 [==============================] - 68s 5ms/step - loss: 0.0849 - accuracy: 0.9705 - val_loss: 0.0916 - val_accuracy: 0.9691\n"
          ]
        }
      ],
      "source": [
        "history = model.fit(X_train, y_train, epochs = epochs, validation_split = 0.15, batch_size = batch_size, verbose = 1)"
      ]
    },
    {
      "cell_type": "code",
      "execution_count": 48,
      "metadata": {
        "colab": {
          "base_uri": "https://localhost:8080/",
          "height": 295
        },
        "id": "J_O0OUVtarBu",
        "outputId": "baf48d2c-e848-4bc5-d737-79c4e5bcec71"
      },
      "outputs": [
        {
          "data": {
            "image/png": "[encoded data removed]",
            "text/plain": [
              "<Figure size 432x288 with 1 Axes>"
            ]
          },
          "metadata": {},
          "output_type": "display_data"
        }
      ],
      "source": [
        "# Plotting training and validation accuracy and cross-entropy loss against a number of epochs –\n",
        "plt.plot(np.array(history.history['loss']), \"r--\", label = \"Train loss\")\n",
        "plt.plot(np.array(history.history['accuracy']), \"g--\", label = \"Train accuracy\")\n",
        "plt.plot(np.array(history.history['val_loss']), \"r-\", label = \"Validation loss\")\n",
        "plt.plot(np.array(history.history['val_accuracy']), \"g-\", label = \"Validation accuracy\")\n",
        "plt.title(\"Training session's progress over iterations\")\n",
        "plt.legend(loc='lower left')\n",
        "plt.ylabel('Training Progress (Loss/Accuracy)')\n",
        "plt.xlabel('Training Epoch')\n",
        "plt.ylim(0) \n",
        "plt.show()"
      ]
    },
    {
      "cell_type": "code",
      "execution_count": 49,
      "metadata": {
        "colab": {
          "base_uri": "https://localhost:8080/",
          "height": 297
        },
        "id": "jQOiCL9UarBv",
        "outputId": "c97dd07b-ee9f-48ae-a3d6-d05c03d96d4b"
      },
      "outputs": [
        {
          "name": "stdout",
          "output_type": "stream",
          "text": [
            "636/636 [==============================] - 2s 2ms/step\n"
          ]
        },
        {
          "data": {
            "image/png": "[encoded data removed]",
            "text/plain": [
              "<Figure size 432x288 with 2 Axes>"
            ]
          },
          "metadata": {},
          "output_type": "display_data"
        }
      ],
      "source": [
        "predictions = model.predict(X_test)\n",
        "class_labels = [0,1,2]\n",
        "max_test = np.argmax(y_test, axis=1)\n",
        "max_predictions = np.argmax(predictions, axis=1)\n",
        "from sklearn.metrics import confusion_matrix\n",
        "confs_mat = confusion_matrix(max_test, max_predictions)\n",
        "\n",
        "sns.heatmap(confs_mat, xticklabels = class_labels, yticklabels = class_labels, annot = True, linewidths = 0.1, fmt='d', cmap = 'YlGnBu')\n",
        "plt.title(\"Confusion matrix\", fontsize = 15)\n",
        "plt.ylabel('True label')\n",
        "plt.xlabel('Predicted label')\n",
        "plt.show()"
      ]
    },
    {
      "cell_type": "code",
      "execution_count": 50,
      "metadata": {
        "id": "B-zsIap4EE5K"
      },
      "outputs": [
        {
          "name": "stderr",
          "output_type": "stream",
          "text": [
            "WARNING:absl:Found untraced functions such as gru_cell_1_layer_call_fn, gru_cell_1_layer_call_and_return_conditional_losses while saving (showing 2 of 2). These functions will not be directly callable after loading.\n"
          ]
        },
        {
          "name": "stdout",
          "output_type": "stream",
          "text": [
            "INFO:tensorflow:Assets written to: C:\\Users\\kirta\\AppData\\Local\\Temp\\tmprrl26a15\\assets\n"
          ]
        },
        {
          "name": "stderr",
          "output_type": "stream",
          "text": [
            "INFO:tensorflow:Assets written to: C:\\Users\\kirta\\AppData\\Local\\Temp\\tmprrl26a15\\assets\n"
          ]
        },
        {
          "data": {
            "text/plain": [
              "317836"
            ]
          },
          "execution_count": 50,
          "metadata": {},
          "output_type": "execute_result"
        }
      ],
      "source": [
        "#Converting the model for android application\n",
        "import tensorflow as tf\n",
        "from tensorflow import lite\n",
        "converter = lite.TFLiteConverter.from_keras_model(model)\n",
        "converter.target_spec.supported_ops = [\n",
        "  tf.lite.OpsSet.TFLITE_BUILTINS, # enable TensorFlow Lite ops.\n",
        "  tf.lite.OpsSet.SELECT_TF_OPS # enable TensorFlow ops.\n",
        "]\n",
        "tfmodel = converter.convert()\n",
        "open('Final_Acc_Model.tflite', 'wb').write(tfmodel)"
      ]
    }
  ],
  "metadata": {
    "colab": {
      "collapsed_sections": [],
      "name": "Copy of LSTMandGRU_movement_4.1.ipynb",
      "provenance": []
    },
    "kernelspec": {
      "display_name": "Python 3.10.4 64-bit",
      "language": "python",
      "name": "python3"
    },
    "language_info": {
      "codemirror_mode": {
        "name": "ipython",
        "version": 3
      },
      "file_extension": ".py",
      "mimetype": "text/x-python",
      "name": "python",
      "nbconvert_exporter": "python",
      "pygments_lexer": "ipython3",
      "version": "3.10.4"
    },
    "orig_nbformat": 4,
    "vscode": {
      "interpreter": {
        "hash": "2c68eb5bbce9e8d2fcb6cec6f7d6ea3666f46062bed0b99be484241acc53f11f"
      }
    }
  },
  "nbformat": 4,
  "nbformat_minor": 0
}
